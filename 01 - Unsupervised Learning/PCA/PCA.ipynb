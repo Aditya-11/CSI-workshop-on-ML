{
 "cells": [
  {
   "cell_type": "markdown",
   "metadata": {},
   "source": [
    "# Principal Component Analysis\n",
    "\n",
    "This is not exactly a full machine learning algorithm. This is a technique to reduce the dimensions of the dataset(i.e, number of features) by capture the data space with which has more variance.\n",
    "\n",
    "\n",
    "Think of PCA as projection of the dataset onto the plane passing through the maximum variance in the dataset."
   ]
  },
  {
   "cell_type": "markdown",
   "metadata": {},
   "source": [
    "<img src=1-1.png>\n",
    "\n",
    "\n",
    "\n",
    "From the figure, we intivutively understand reducing the dimensions of the dataset by projecting the points onto the plane, there by the plane is the representative of the data points that are plotted on the chart. The PC1 and PC2 are the two components.\n",
    "\n",
    "\n",
    "# Step - 0\n",
    "\n",
    "Import libraries."
   ]
  },
  {
   "cell_type": "code",
   "execution_count": null,
   "metadata": {},
   "outputs": [],
   "source": [
    "import matplotlib.pyplot as plt\n",
    "import pandas as pd\n",
    "import numpy as np\n",
    "import seaborn as sns\n",
    "%matplotlib inline"
   ]
  },
  {
   "cell_type": "markdown",
   "metadata": {},
   "source": [
    "# Step - 1\n",
    "\n",
    "Get the data, we are going to use the **Breast cancer dataset**, which is in-built with sklearn."
   ]
  },
  {
   "cell_type": "code",
   "execution_count": null,
   "metadata": {},
   "outputs": [],
   "source": [
    "from sklearn.datasets import load_breast_cancer\n",
    "#Load data.The load dataset function returns the dictionary, each key represents\n",
    "#the details of the dataset.\n",
    "cancer = load_breast_cancer()\n",
    "df = pd.DataFrame(cancer['data'],columns=cancer['feature_names'])\n",
    "df.head()"
   ]
  },
  {
   "cell_type": "markdown",
   "metadata": {},
   "source": [
    "We observe that the dataset has 30 features. Let's use PCA and reduce the dimensions of the data.\n",
    "\n",
    "\n",
    "**Note:** For applying PCA all the data points in the dataset must be scaled to zero mean. If one of the feature range is not comarable to the other feature then that feature must be scaled."
   ]
  },
  {
   "cell_type": "code",
   "execution_count": null,
   "metadata": {},
   "outputs": [],
   "source": [
    "from sklearn.preprocessing import StandardScaler\n",
    "# Make scalar object.\n",
    "scaler = StandardScaler()\n",
    "scaler.fit(df)\n",
    "# Scale the data.\n",
    "scaled_data = scaler.transform(df)"
   ]
  },
  {
   "cell_type": "markdown",
   "metadata": {},
   "source": [
    "# Step - 2\n",
    "\n",
    "Applying PCA is lot similar to the usage of other machine learning algorithms of sklearn."
   ]
  },
  {
   "cell_type": "code",
   "execution_count": null,
   "metadata": {},
   "outputs": [],
   "source": [
    "from sklearn.decomposition import PCA\n",
    "#Declaring PCA with \"two\" components.\n",
    "pca = PCA(n_components=2)\n",
    "#fitting the data.\n",
    "pca.fit(scaled_data)"
   ]
  },
  {
   "cell_type": "code",
   "execution_count": null,
   "metadata": {},
   "outputs": [],
   "source": [
    "#Now we can transform this data to its first 2 principal components.\n",
    "trans_data = pca.transform(scaled_data)"
   ]
  },
  {
   "cell_type": "code",
   "execution_count": null,
   "metadata": {},
   "outputs": [],
   "source": [
    "scaled_data.shape"
   ]
  },
  {
   "cell_type": "code",
   "execution_count": null,
   "metadata": {},
   "outputs": [],
   "source": [
    "trans_data.shape"
   ]
  },
  {
   "cell_type": "markdown",
   "metadata": {},
   "source": [
    "# Step - 3\n",
    "\n",
    "Let's visualize the power of PCA on our dataset."
   ]
  },
  {
   "cell_type": "code",
   "execution_count": null,
   "metadata": {},
   "outputs": [],
   "source": [
    "plt.figure(figsize=(8,6))\n",
    "plt.scatter(trans_data[:,0],trans_data[:,1],c=cancer['target'],cmap='plasma')\n",
    "plt.xlabel('1st principal component')\n",
    "plt.ylabel('2nd Principal Component')"
   ]
  },
  {
   "cell_type": "markdown",
   "metadata": {},
   "source": [
    "---\n",
    "                                    THE END"
   ]
  }
 ],
 "metadata": {
  "kernelspec": {
   "display_name": "Python 3",
   "language": "python",
   "name": "python3"
  },
  "language_info": {
   "codemirror_mode": {
    "name": "ipython",
    "version": 3
   },
   "file_extension": ".py",
   "mimetype": "text/x-python",
   "name": "python",
   "nbconvert_exporter": "python",
   "pygments_lexer": "ipython3",
   "version": "3.6.3"
  }
 },
 "nbformat": 4,
 "nbformat_minor": 2
}
